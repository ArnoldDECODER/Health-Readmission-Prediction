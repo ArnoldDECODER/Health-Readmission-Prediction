{
  "nbformat": 4,
  "nbformat_minor": 0,
  "metadata": {
    "colab": {
      "provenance": []
    },
    "kernelspec": {
      "name": "python3",
      "display_name": "Python 3"
    },
    "language_info": {
      "name": "python"
    }
  },
  "cells": [
    {
      "cell_type": "code",
      "execution_count": null,
      "metadata": {
        "colab": {
          "base_uri": "https://localhost:8080/",
          "height": 73
        },
        "id": "-l8MKNARMRd9",
        "outputId": "34586d4a-0975-41b0-be5a-d13192dfa6e8"
      },
      "outputs": [
        {
          "output_type": "display_data",
          "data": {
            "text/plain": [
              "<IPython.core.display.HTML object>"
            ],
            "text/html": [
              "\n",
              "     <input type=\"file\" id=\"files-128842f5-8369-4c75-9a25-3700a2897c1d\" name=\"files[]\" multiple disabled\n",
              "        style=\"border:none\" />\n",
              "     <output id=\"result-128842f5-8369-4c75-9a25-3700a2897c1d\">\n",
              "      Upload widget is only available when the cell has been executed in the\n",
              "      current browser session. Please rerun this cell to enable.\n",
              "      </output>\n",
              "      <script>// Copyright 2017 Google LLC\n",
              "//\n",
              "// Licensed under the Apache License, Version 2.0 (the \"License\");\n",
              "// you may not use this file except in compliance with the License.\n",
              "// You may obtain a copy of the License at\n",
              "//\n",
              "//      http://www.apache.org/licenses/LICENSE-2.0\n",
              "//\n",
              "// Unless required by applicable law or agreed to in writing, software\n",
              "// distributed under the License is distributed on an \"AS IS\" BASIS,\n",
              "// WITHOUT WARRANTIES OR CONDITIONS OF ANY KIND, either express or implied.\n",
              "// See the License for the specific language governing permissions and\n",
              "// limitations under the License.\n",
              "\n",
              "/**\n",
              " * @fileoverview Helpers for google.colab Python module.\n",
              " */\n",
              "(function(scope) {\n",
              "function span(text, styleAttributes = {}) {\n",
              "  const element = document.createElement('span');\n",
              "  element.textContent = text;\n",
              "  for (const key of Object.keys(styleAttributes)) {\n",
              "    element.style[key] = styleAttributes[key];\n",
              "  }\n",
              "  return element;\n",
              "}\n",
              "\n",
              "// Max number of bytes which will be uploaded at a time.\n",
              "const MAX_PAYLOAD_SIZE = 100 * 1024;\n",
              "\n",
              "function _uploadFiles(inputId, outputId) {\n",
              "  const steps = uploadFilesStep(inputId, outputId);\n",
              "  const outputElement = document.getElementById(outputId);\n",
              "  // Cache steps on the outputElement to make it available for the next call\n",
              "  // to uploadFilesContinue from Python.\n",
              "  outputElement.steps = steps;\n",
              "\n",
              "  return _uploadFilesContinue(outputId);\n",
              "}\n",
              "\n",
              "// This is roughly an async generator (not supported in the browser yet),\n",
              "// where there are multiple asynchronous steps and the Python side is going\n",
              "// to poll for completion of each step.\n",
              "// This uses a Promise to block the python side on completion of each step,\n",
              "// then passes the result of the previous step as the input to the next step.\n",
              "function _uploadFilesContinue(outputId) {\n",
              "  const outputElement = document.getElementById(outputId);\n",
              "  const steps = outputElement.steps;\n",
              "\n",
              "  const next = steps.next(outputElement.lastPromiseValue);\n",
              "  return Promise.resolve(next.value.promise).then((value) => {\n",
              "    // Cache the last promise value to make it available to the next\n",
              "    // step of the generator.\n",
              "    outputElement.lastPromiseValue = value;\n",
              "    return next.value.response;\n",
              "  });\n",
              "}\n",
              "\n",
              "/**\n",
              " * Generator function which is called between each async step of the upload\n",
              " * process.\n",
              " * @param {string} inputId Element ID of the input file picker element.\n",
              " * @param {string} outputId Element ID of the output display.\n",
              " * @return {!Iterable<!Object>} Iterable of next steps.\n",
              " */\n",
              "function* uploadFilesStep(inputId, outputId) {\n",
              "  const inputElement = document.getElementById(inputId);\n",
              "  inputElement.disabled = false;\n",
              "\n",
              "  const outputElement = document.getElementById(outputId);\n",
              "  outputElement.innerHTML = '';\n",
              "\n",
              "  const pickedPromise = new Promise((resolve) => {\n",
              "    inputElement.addEventListener('change', (e) => {\n",
              "      resolve(e.target.files);\n",
              "    });\n",
              "  });\n",
              "\n",
              "  const cancel = document.createElement('button');\n",
              "  inputElement.parentElement.appendChild(cancel);\n",
              "  cancel.textContent = 'Cancel upload';\n",
              "  const cancelPromise = new Promise((resolve) => {\n",
              "    cancel.onclick = () => {\n",
              "      resolve(null);\n",
              "    };\n",
              "  });\n",
              "\n",
              "  // Wait for the user to pick the files.\n",
              "  const files = yield {\n",
              "    promise: Promise.race([pickedPromise, cancelPromise]),\n",
              "    response: {\n",
              "      action: 'starting',\n",
              "    }\n",
              "  };\n",
              "\n",
              "  cancel.remove();\n",
              "\n",
              "  // Disable the input element since further picks are not allowed.\n",
              "  inputElement.disabled = true;\n",
              "\n",
              "  if (!files) {\n",
              "    return {\n",
              "      response: {\n",
              "        action: 'complete',\n",
              "      }\n",
              "    };\n",
              "  }\n",
              "\n",
              "  for (const file of files) {\n",
              "    const li = document.createElement('li');\n",
              "    li.append(span(file.name, {fontWeight: 'bold'}));\n",
              "    li.append(span(\n",
              "        `(${file.type || 'n/a'}) - ${file.size} bytes, ` +\n",
              "        `last modified: ${\n",
              "            file.lastModifiedDate ? file.lastModifiedDate.toLocaleDateString() :\n",
              "                                    'n/a'} - `));\n",
              "    const percent = span('0% done');\n",
              "    li.appendChild(percent);\n",
              "\n",
              "    outputElement.appendChild(li);\n",
              "\n",
              "    const fileDataPromise = new Promise((resolve) => {\n",
              "      const reader = new FileReader();\n",
              "      reader.onload = (e) => {\n",
              "        resolve(e.target.result);\n",
              "      };\n",
              "      reader.readAsArrayBuffer(file);\n",
              "    });\n",
              "    // Wait for the data to be ready.\n",
              "    let fileData = yield {\n",
              "      promise: fileDataPromise,\n",
              "      response: {\n",
              "        action: 'continue',\n",
              "      }\n",
              "    };\n",
              "\n",
              "    // Use a chunked sending to avoid message size limits. See b/62115660.\n",
              "    let position = 0;\n",
              "    do {\n",
              "      const length = Math.min(fileData.byteLength - position, MAX_PAYLOAD_SIZE);\n",
              "      const chunk = new Uint8Array(fileData, position, length);\n",
              "      position += length;\n",
              "\n",
              "      const base64 = btoa(String.fromCharCode.apply(null, chunk));\n",
              "      yield {\n",
              "        response: {\n",
              "          action: 'append',\n",
              "          file: file.name,\n",
              "          data: base64,\n",
              "        },\n",
              "      };\n",
              "\n",
              "      let percentDone = fileData.byteLength === 0 ?\n",
              "          100 :\n",
              "          Math.round((position / fileData.byteLength) * 100);\n",
              "      percent.textContent = `${percentDone}% done`;\n",
              "\n",
              "    } while (position < fileData.byteLength);\n",
              "  }\n",
              "\n",
              "  // All done.\n",
              "  yield {\n",
              "    response: {\n",
              "      action: 'complete',\n",
              "    }\n",
              "  };\n",
              "}\n",
              "\n",
              "scope.google = scope.google || {};\n",
              "scope.google.colab = scope.google.colab || {};\n",
              "scope.google.colab._files = {\n",
              "  _uploadFiles,\n",
              "  _uploadFilesContinue,\n",
              "};\n",
              "})(self);\n",
              "</script> "
            ]
          },
          "metadata": {}
        },
        {
          "output_type": "stream",
          "name": "stdout",
          "text": [
            "Saving health_readmissions.csv to health_readmissions.csv\n"
          ]
        }
      ],
      "source": [
        "#used to import files\n",
        "from google.colab import files\n",
        "uploaded = files.upload()"
      ]
    },
    {
      "cell_type": "code",
      "source": [
        "#used to import files\n",
        "from google.colab import files\n",
        "uploaded = files.upload()"
      ],
      "metadata": {
        "colab": {
          "base_uri": "https://localhost:8080/",
          "height": 71
        },
        "id": "zfiQ2SrVaXCl",
        "outputId": "04ade56f-4560-48cf-9769-d6912f185942"
      },
      "execution_count": null,
      "outputs": [
        {
          "output_type": "display_data",
          "data": {
            "text/plain": [
              "<IPython.core.display.HTML object>"
            ],
            "text/html": [
              "\n",
              "     <input type=\"file\" id=\"files-ff1b64ab-8804-43f4-a10e-21365926a517\" name=\"files[]\" multiple disabled\n",
              "        style=\"border:none\" />\n",
              "     <output id=\"result-ff1b64ab-8804-43f4-a10e-21365926a517\">\n",
              "      Upload widget is only available when the cell has been executed in the\n",
              "      current browser session. Please rerun this cell to enable.\n",
              "      </output>\n",
              "      <script>// Copyright 2017 Google LLC\n",
              "//\n",
              "// Licensed under the Apache License, Version 2.0 (the \"License\");\n",
              "// you may not use this file except in compliance with the License.\n",
              "// You may obtain a copy of the License at\n",
              "//\n",
              "//      http://www.apache.org/licenses/LICENSE-2.0\n",
              "//\n",
              "// Unless required by applicable law or agreed to in writing, software\n",
              "// distributed under the License is distributed on an \"AS IS\" BASIS,\n",
              "// WITHOUT WARRANTIES OR CONDITIONS OF ANY KIND, either express or implied.\n",
              "// See the License for the specific language governing permissions and\n",
              "// limitations under the License.\n",
              "\n",
              "/**\n",
              " * @fileoverview Helpers for google.colab Python module.\n",
              " */\n",
              "(function(scope) {\n",
              "function span(text, styleAttributes = {}) {\n",
              "  const element = document.createElement('span');\n",
              "  element.textContent = text;\n",
              "  for (const key of Object.keys(styleAttributes)) {\n",
              "    element.style[key] = styleAttributes[key];\n",
              "  }\n",
              "  return element;\n",
              "}\n",
              "\n",
              "// Max number of bytes which will be uploaded at a time.\n",
              "const MAX_PAYLOAD_SIZE = 100 * 1024;\n",
              "\n",
              "function _uploadFiles(inputId, outputId) {\n",
              "  const steps = uploadFilesStep(inputId, outputId);\n",
              "  const outputElement = document.getElementById(outputId);\n",
              "  // Cache steps on the outputElement to make it available for the next call\n",
              "  // to uploadFilesContinue from Python.\n",
              "  outputElement.steps = steps;\n",
              "\n",
              "  return _uploadFilesContinue(outputId);\n",
              "}\n",
              "\n",
              "// This is roughly an async generator (not supported in the browser yet),\n",
              "// where there are multiple asynchronous steps and the Python side is going\n",
              "// to poll for completion of each step.\n",
              "// This uses a Promise to block the python side on completion of each step,\n",
              "// then passes the result of the previous step as the input to the next step.\n",
              "function _uploadFilesContinue(outputId) {\n",
              "  const outputElement = document.getElementById(outputId);\n",
              "  const steps = outputElement.steps;\n",
              "\n",
              "  const next = steps.next(outputElement.lastPromiseValue);\n",
              "  return Promise.resolve(next.value.promise).then((value) => {\n",
              "    // Cache the last promise value to make it available to the next\n",
              "    // step of the generator.\n",
              "    outputElement.lastPromiseValue = value;\n",
              "    return next.value.response;\n",
              "  });\n",
              "}\n",
              "\n",
              "/**\n",
              " * Generator function which is called between each async step of the upload\n",
              " * process.\n",
              " * @param {string} inputId Element ID of the input file picker element.\n",
              " * @param {string} outputId Element ID of the output display.\n",
              " * @return {!Iterable<!Object>} Iterable of next steps.\n",
              " */\n",
              "function* uploadFilesStep(inputId, outputId) {\n",
              "  const inputElement = document.getElementById(inputId);\n",
              "  inputElement.disabled = false;\n",
              "\n",
              "  const outputElement = document.getElementById(outputId);\n",
              "  outputElement.innerHTML = '';\n",
              "\n",
              "  const pickedPromise = new Promise((resolve) => {\n",
              "    inputElement.addEventListener('change', (e) => {\n",
              "      resolve(e.target.files);\n",
              "    });\n",
              "  });\n",
              "\n",
              "  const cancel = document.createElement('button');\n",
              "  inputElement.parentElement.appendChild(cancel);\n",
              "  cancel.textContent = 'Cancel upload';\n",
              "  const cancelPromise = new Promise((resolve) => {\n",
              "    cancel.onclick = () => {\n",
              "      resolve(null);\n",
              "    };\n",
              "  });\n",
              "\n",
              "  // Wait for the user to pick the files.\n",
              "  const files = yield {\n",
              "    promise: Promise.race([pickedPromise, cancelPromise]),\n",
              "    response: {\n",
              "      action: 'starting',\n",
              "    }\n",
              "  };\n",
              "\n",
              "  cancel.remove();\n",
              "\n",
              "  // Disable the input element since further picks are not allowed.\n",
              "  inputElement.disabled = true;\n",
              "\n",
              "  if (!files) {\n",
              "    return {\n",
              "      response: {\n",
              "        action: 'complete',\n",
              "      }\n",
              "    };\n",
              "  }\n",
              "\n",
              "  for (const file of files) {\n",
              "    const li = document.createElement('li');\n",
              "    li.append(span(file.name, {fontWeight: 'bold'}));\n",
              "    li.append(span(\n",
              "        `(${file.type || 'n/a'}) - ${file.size} bytes, ` +\n",
              "        `last modified: ${\n",
              "            file.lastModifiedDate ? file.lastModifiedDate.toLocaleDateString() :\n",
              "                                    'n/a'} - `));\n",
              "    const percent = span('0% done');\n",
              "    li.appendChild(percent);\n",
              "\n",
              "    outputElement.appendChild(li);\n",
              "\n",
              "    const fileDataPromise = new Promise((resolve) => {\n",
              "      const reader = new FileReader();\n",
              "      reader.onload = (e) => {\n",
              "        resolve(e.target.result);\n",
              "      };\n",
              "      reader.readAsArrayBuffer(file);\n",
              "    });\n",
              "    // Wait for the data to be ready.\n",
              "    let fileData = yield {\n",
              "      promise: fileDataPromise,\n",
              "      response: {\n",
              "        action: 'continue',\n",
              "      }\n",
              "    };\n",
              "\n",
              "    // Use a chunked sending to avoid message size limits. See b/62115660.\n",
              "    let position = 0;\n",
              "    do {\n",
              "      const length = Math.min(fileData.byteLength - position, MAX_PAYLOAD_SIZE);\n",
              "      const chunk = new Uint8Array(fileData, position, length);\n",
              "      position += length;\n",
              "\n",
              "      const base64 = btoa(String.fromCharCode.apply(null, chunk));\n",
              "      yield {\n",
              "        response: {\n",
              "          action: 'append',\n",
              "          file: file.name,\n",
              "          data: base64,\n",
              "        },\n",
              "      };\n",
              "\n",
              "      let percentDone = fileData.byteLength === 0 ?\n",
              "          100 :\n",
              "          Math.round((position / fileData.byteLength) * 100);\n",
              "      percent.textContent = `${percentDone}% done`;\n",
              "\n",
              "    } while (position < fileData.byteLength);\n",
              "  }\n",
              "\n",
              "  // All done.\n",
              "  yield {\n",
              "    response: {\n",
              "      action: 'complete',\n",
              "    }\n",
              "  };\n",
              "}\n",
              "\n",
              "scope.google = scope.google || {};\n",
              "scope.google.colab = scope.google.colab || {};\n",
              "scope.google.colab._files = {\n",
              "  _uploadFiles,\n",
              "  _uploadFilesContinue,\n",
              "};\n",
              "})(self);\n",
              "</script> "
            ]
          },
          "metadata": {}
        },
        {
          "output_type": "stream",
          "name": "stdout",
          "text": [
            "Saving test.csv to test.csv\n"
          ]
        }
      ]
    },
    {
      "cell_type": "code",
      "source": [
        "import pandas as pd\n",
        "# df = pd.read_csv('train.csv')\n",
        "df = pd.read_csv('health_readmissions.csv')\n",
        "\n",
        "print(df.head())\n",
        "print(df.info())\n",
        "# print(df['career_start'].value_counts())"
      ],
      "metadata": {
        "colab": {
          "base_uri": "https://localhost:8080/"
        },
        "id": "_W_w85claYbD",
        "outputId": "8061e429-6a95-4f09-df76-730c84d15ac4"
      },
      "execution_count": null,
      "outputs": [
        {
          "output_type": "stream",
          "name": "stdout",
          "text": [
            "  age;sex;residence_type;systolic_bp;diastolic_bp;cholesterol;hemoglobin;past_visits;length_of_stay;insurance_status;readmitted_within_30days\n",
            "0     69;F;Suburban;107;72;171.0;15.9;5.0;7;Public;0                                                                                         \n",
            "1    32;F;Suburban;131;92;235.0;12.7;5.0;7;Private;0                                                                                         \n",
            "2    89;M;Suburban;150;84;150.0;13.0;0.0;5;Private;0                                                                                         \n",
            "3         78;M;Rural;155;107;232.0;12.4;2.0;6;None;0                                                                                         \n",
            "4       38;M;Urban;153;93;250.0;12.0;4.0;4;Private;0                                                                                         \n",
            "<class 'pandas.core.frame.DataFrame'>\n",
            "RangeIndex: 2000 entries, 0 to 1999\n",
            "Data columns (total 1 columns):\n",
            " #   Column                                                                                                                                       Non-Null Count  Dtype \n",
            "---  ------                                                                                                                                       --------------  ----- \n",
            " 0   age;sex;residence_type;systolic_bp;diastolic_bp;cholesterol;hemoglobin;past_visits;length_of_stay;insurance_status;readmitted_within_30days  2000 non-null   object\n",
            "dtypes: object(1)\n",
            "memory usage: 15.8+ KB\n",
            "None\n"
          ]
        }
      ]
    },
    {
      "cell_type": "code",
      "source": [
        "import pandas as pd\n",
        "\n",
        "# Step 1. Loading and cleaning data\n",
        "df = pd.read_csv('train.csv')\n",
        "df.drop(['id', 'bdate', 'langs', 'education_status', 'life_main', 'people_main',\n",
        "         'city', 'last_seen', 'occupation_type', 'occupation_name',\n",
        "         'career_start', 'career_end'], axis=1, inplace=True)\n",
        "\n",
        "# Step 1.1 Fill missing values in 'education_form' with the most common option\n",
        "popular_option = df['education_form'].value_counts().index[0]\n",
        "df['education_form'].fillna(popular_option, inplace=True)\n",
        "\n",
        "# Step 1.2 Convert 'education_form' to numeric values\n",
        "def Education_values(education_form):\n",
        "    if education_form == 'Full-time':\n",
        "        return 1\n",
        "    elif education_form == 'Distance Learning':\n",
        "        return 2\n",
        "    else:\n",
        "        return 3\n",
        "\n",
        "df['education_form'] = df['education_form'].apply(Education_values)\n",
        "\n",
        "# Step 2. Creating a model\n",
        "from sklearn.model_selection import train_test_split\n",
        "from sklearn.preprocessing import StandardScaler\n",
        "from sklearn.neighbors import KNeighborsClassifier\n",
        "from sklearn.metrics import confusion_matrix, accuracy_score\n",
        "\n",
        "X = df.drop('result', axis=1)\n",
        "y = df['result']\n",
        "X_train, X_test, y_train, y_test = train_test_split(X, y, test_size=0.25)\n",
        "\n",
        "sc = StandardScaler()\n",
        "X_train = sc.fit_transform(X_train)\n",
        "X_test = sc.transform(X_test)\n",
        "\n",
        "classifier = KNeighborsClassifier(n_neighbors=5)\n",
        "classifier.fit(X_train, y_train)\n",
        "\n",
        "y_pred = classifier.predict(X_test)\n",
        "print('Percentage of correctly predicted outcomes:', accuracy_score(y_test, y_pred) * 100)\n",
        "print('Confusion matrix:')\n",
        "print(confusion_matrix(y_test, y_pred))\n",
        "print(df.info())\n"
      ],
      "metadata": {
        "colab": {
          "base_uri": "https://localhost:8080/"
        },
        "id": "9waejyXd0aW8",
        "outputId": "c0c81db0-205e-4377-d7f2-4f17ec932c08"
      },
      "execution_count": null,
      "outputs": [
        {
          "output_type": "stream",
          "name": "stdout",
          "text": [
            "Percentage of correctly predicted outcomes: 81.40556368960469\n",
            "Confusion matrix:\n",
            "[[794 144]\n",
            " [237 874]]\n",
            "<class 'pandas.core.frame.DataFrame'>\n",
            "RangeIndex: 8193 entries, 0 to 8192\n",
            "Data columns (total 8 columns):\n",
            " #   Column           Non-Null Count  Dtype  \n",
            "---  ------           --------------  -----  \n",
            " 0   sex              8193 non-null   int64  \n",
            " 1   has_photo        8193 non-null   int64  \n",
            " 2   has_mobile       8193 non-null   float64\n",
            " 3   followers_count  8193 non-null   float64\n",
            " 4   graduation       8193 non-null   float64\n",
            " 5   education_form   8193 non-null   int64  \n",
            " 6   relation         8193 non-null   float64\n",
            " 7   result           8193 non-null   int64  \n",
            "dtypes: float64(4), int64(4)\n",
            "memory usage: 512.2 KB\n",
            "None\n"
          ]
        },
        {
          "output_type": "stream",
          "name": "stderr",
          "text": [
            "/tmp/ipython-input-1783405703.py:11: FutureWarning: A value is trying to be set on a copy of a DataFrame or Series through chained assignment using an inplace method.\n",
            "The behavior will change in pandas 3.0. This inplace method will never work because the intermediate object on which we are setting values always behaves as a copy.\n",
            "\n",
            "For example, when doing 'df[col].method(value, inplace=True)', try using 'df.method({col: value}, inplace=True)' or df[col] = df[col].method(value) instead, to perform the operation inplace on the original object.\n",
            "\n",
            "\n",
            "  df['education_form'].fillna(popular_option, inplace=True)\n"
          ]
        }
      ]
    },
    {
      "cell_type": "code",
      "source": [
        "import pandas as pd\n",
        "\n",
        "# Step 1. Loading and cleaning data\n",
        "df = pd.read_csv('train.csv')\n",
        "df.drop(['id', 'bdate', 'langs','education_form','education_status','life_main','people_main','city','last_seen','occupation_type','occupation_name','career_start','career_end'], axis=1, inplace=True)\n",
        "\n",
        "\n",
        "\n",
        "# Step 2. Creating a model\n",
        "from sklearn.model_selection import train_test_split\n",
        "from sklearn.preprocessing import StandardScaler\n",
        "from sklearn.neighbors import KNeighborsClassifier\n",
        "from sklearn.metrics import confusion_matrix, accuracy_score\n",
        "\n",
        "X = df.drop('result', axis=1)\n",
        "y = df['result']\n",
        "X_train, X_test, y_train, y_test = train_test_split(X, y, test_size=0.25)\n",
        "\n",
        "sc = StandardScaler()\n",
        "X_train = sc.fit_transform(X_train)\n",
        "X_test = sc.transform(X_test)\n",
        "\n",
        "classifier = KNeighborsClassifier(n_neighbors=5)\n",
        "classifier.fit(X_train, y_train)\n",
        "\n",
        "y_pred = classifier.predict(X_test)\n",
        "print('Percentage of correctly predicted outcomes:', accuracy_score(y_test, y_pred) * 100)\n",
        "print('Confusion matrix:')\n",
        "print(confusion_matrix(y_test, y_pred))\n",
        "print(df.info())\n"
      ],
      "metadata": {
        "colab": {
          "base_uri": "https://localhost:8080/"
        },
        "id": "stHXpX0kqpNK",
        "outputId": "2d055ec6-3375-485a-ef2a-b13de5b383e3"
      },
      "execution_count": null,
      "outputs": [
        {
          "output_type": "stream",
          "name": "stdout",
          "text": [
            "Percentage of correctly predicted outcomes: 82.52806246949731\n",
            "Confusion matrix:\n",
            "[[806 147]\n",
            " [211 885]]\n",
            "<class 'pandas.core.frame.DataFrame'>\n",
            "RangeIndex: 8193 entries, 0 to 8192\n",
            "Data columns (total 7 columns):\n",
            " #   Column           Non-Null Count  Dtype  \n",
            "---  ------           --------------  -----  \n",
            " 0   sex              8193 non-null   int64  \n",
            " 1   has_photo        8193 non-null   int64  \n",
            " 2   has_mobile       8193 non-null   float64\n",
            " 3   followers_count  8193 non-null   float64\n",
            " 4   graduation       8193 non-null   float64\n",
            " 5   relation         8193 non-null   float64\n",
            " 6   result           8193 non-null   int64  \n",
            "dtypes: float64(4), int64(3)\n",
            "memory usage: 448.2 KB\n",
            "None\n"
          ]
        }
      ]
    },
    {
      "cell_type": "code",
      "source": [
        "import pandas as pd\n",
        "from sklearn.preprocessing import StandardScaler\n",
        "from sklearn.neighbors import KNeighborsClassifier\n",
        "\n",
        "# Step 1. Load and clean training data\n",
        "df_train = pd.read_csv('train.csv')\n",
        "df_train.drop(['id', 'bdate', 'langs', 'education_form', 'education_status',\n",
        "               'life_main', 'people_main', 'city', 'last_seen', 'occupation_type',\n",
        "               'occupation_name', 'career_start', 'career_end'], axis=1, inplace=True)\n",
        "\n",
        "X_train = df_train.drop('result', axis=1)\n",
        "y_train = df_train['result']\n",
        "\n",
        "# Step 2. Load and clean test data\n",
        "df_test = pd.read_csv('test.csv')\n",
        "ID = df_test['id']  # Save user IDs for final output\n",
        "df_test.drop(['id', 'bdate', 'langs', 'education_form', 'education_status',\n",
        "              'life_main', 'people_main', 'city', 'last_seen', 'occupation_type',\n",
        "              'occupation_name', 'career_start', 'career_end'], axis=1, inplace=True)\n",
        "\n",
        "# Step 3. Preprocess data\n",
        "sc = StandardScaler()\n",
        "X_train_scaled = sc.fit_transform(X_train)\n",
        "X_test_scaled = sc.transform(df_test)\n",
        "\n",
        "# Step 4. Train model\n",
        "classifier = KNeighborsClassifier(n_neighbors=5)\n",
        "classifier.fit(X_train_scaled, y_train)\n",
        "\n",
        "# Step 5. Predict on test data\n",
        "y_pred = classifier.predict(X_test_scaled)\n",
        "\n",
        "# Step 6. Save predictions to CSV\n",
        "result = pd.DataFrame({'id': ID, 'result': y_pred})\n",
        "result.to_csv('submission.csv', index=False)"
      ],
      "metadata": {
        "id": "DSXp2VTlqALV"
      },
      "execution_count": null,
      "outputs": []
    },
    {
      "cell_type": "code",
      "source": [
        "import pandas as pd\n",
        "\n",
        "# Step 1. Loading and cleaning data\n",
        "df = pd.read_csv('titanic.csv')\n",
        "df.drop(['PassengerId', 'Name', 'Ticket', 'Cabin'], axis=1, inplace=True)\n",
        "\n",
        "# ✅ Fix: Avoid chained assignment warning\n",
        "df['Embarked'] = df['Embarked'].fillna('S')\n",
        "df.drop('Embarked', axis=1, inplace=True)\n",
        "\n",
        "age_1 = df[df['Pclass'] == 1]['Age'].median()\n",
        "age_2 = df[df['Pclass'] == 2]['Age'].median()\n",
        "age_3 = df[df['Pclass'] == 3]['Age'].median()\n",
        "\n",
        "def fill_age(row):\n",
        "    if pd.isnull(row['Age']):\n",
        "        if row['Pclass'] == 1:\n",
        "            return age_1\n",
        "        if row['Pclass'] == 2:\n",
        "            return age_2\n",
        "        return age_3\n",
        "    return row['Age']\n",
        "\n",
        "df['Age'] = df.apply(fill_age, axis=1)\n",
        "\n",
        "def fill_sex(sex):\n",
        "    if sex == 'male':\n",
        "        return 1\n",
        "    return 0\n",
        "\n",
        "df['Sex'] = df['Sex'].apply(fill_sex)\n",
        "\n",
        "# Step 2. Creating a model\n",
        "from sklearn.model_selection import train_test_split\n",
        "from sklearn.preprocessing import StandardScaler\n",
        "from sklearn.neighbors import KNeighborsClassifier\n",
        "from sklearn.metrics import confusion_matrix, accuracy_score\n",
        "\n",
        "X = df.drop('Survived', axis=1)\n",
        "y = df['Survived']\n",
        "X_train, X_test, y_train, y_test = train_test_split(X, y, test_size=0.25)\n",
        "\n",
        "sc = StandardScaler()\n",
        "X_train = sc.fit_transform(X_train)\n",
        "X_test = sc.transform(X_test)\n",
        "\n",
        "classifier = KNeighborsClassifier(n_neighbors=5)\n",
        "classifier.fit(X_train, y_train)\n",
        "\n",
        "y_pred = classifier.predict(X_test)\n",
        "print('Percentage of correctly predicted outcomes:', accuracy_score(y_test, y_pred) * 100)\n",
        "print('Confusion matrix:')\n",
        "print(confusion_matrix(y_test, y_pred))\n",
        "print(df.info())\n"
      ],
      "metadata": {
        "colab": {
          "base_uri": "https://localhost:8080/"
        },
        "id": "qLjQRyQP62I3",
        "outputId": "577191ad-5613-4c43-d90f-cb623db7d141"
      },
      "execution_count": null,
      "outputs": [
        {
          "output_type": "stream",
          "name": "stdout",
          "text": [
            "Percentage of correctly predicted outcomes: 80.71748878923766\n",
            "Confusion matrix:\n",
            "[[115  22]\n",
            " [ 21  65]]\n",
            "<class 'pandas.core.frame.DataFrame'>\n",
            "RangeIndex: 891 entries, 0 to 890\n",
            "Data columns (total 7 columns):\n",
            " #   Column    Non-Null Count  Dtype  \n",
            "---  ------    --------------  -----  \n",
            " 0   Survived  891 non-null    int64  \n",
            " 1   Pclass    891 non-null    int64  \n",
            " 2   Sex       891 non-null    int64  \n",
            " 3   Age       891 non-null    float64\n",
            " 4   SibSp     891 non-null    int64  \n",
            " 5   Parch     891 non-null    int64  \n",
            " 6   Fare      891 non-null    float64\n",
            "dtypes: float64(2), int64(5)\n",
            "memory usage: 48.9 KB\n",
            "None\n"
          ]
        }
      ]
    },
    {
      "cell_type": "code",
      "source": [
        "import pandas as pd\n",
        "df = pd.read_csv('Space_Corrected.csv')"
      ],
      "metadata": {
        "id": "dwz56KTjNo_a"
      },
      "execution_count": null,
      "outputs": []
    },
    {
      "cell_type": "code",
      "source": [
        "print(df['Status Mission'].value_counts())\n",
        "pivot = df.pivot_table(\n",
        "    index='Country',\n",
        "    columns='Status Mission',\n",
        "    values='Location',  # or any non-null column just to count\n",
        "    aggfunc='count',\n",
        "    fill_value=0\n",
        ")\n",
        "\n",
        "print(pivot.head())\n"
      ],
      "metadata": {
        "colab": {
          "base_uri": "https://localhost:8080/"
        },
        "id": "-IVyUX0BN6C3",
        "outputId": "3e035330-8499-4775-bd4a-4aa6ad18ffa4"
      },
      "execution_count": null,
      "outputs": [
        {
          "output_type": "stream",
          "name": "stdout",
          "text": [
            "Status Mission\n",
            "Success              3879\n",
            "Failure               339\n",
            "Partial Failure       102\n",
            "Prelaunch Failure       4\n",
            "Name: count, dtype: int64\n",
            "Status Mission  Failure  Partial Failure  Prelaunch Failure  Success\n",
            "Country                                                             \n",
            "Australia             3                0                  0        3\n",
            "Barents Sea           1                0                  0        2\n",
            "Brazil                2                0                  1        0\n",
            "China                19                6                  0      243\n",
            "France               13                5                  0      285\n"
          ]
        }
      ]
    },
    {
      "cell_type": "code",
      "source": [
        "# Filter only successful missions\n",
        "success_only = df[df['Status Mission'] == 'Success']\n",
        "\n",
        "# Count how many times each country appears\n",
        "top_country = success_only['Country'].value_counts().head(5)\n",
        "\n",
        "print(top_country)\n"
      ],
      "metadata": {
        "colab": {
          "base_uri": "https://localhost:8080/"
        },
        "id": "ln9wBuQDoghS",
        "outputId": "46bac223-98ce-462d-f601-741edec7006a"
      },
      "execution_count": null,
      "outputs": [
        {
          "output_type": "stream",
          "name": "stdout",
          "text": [
            "Country\n",
            "Russia        1303\n",
            "USA           1186\n",
            "Kazakhstan     608\n",
            "France         285\n",
            "China          243\n",
            "Name: count, dtype: int64\n"
          ]
        }
      ]
    },
    {
      "cell_type": "code",
      "source": [
        "print(df['Location'].value_counts())"
      ],
      "metadata": {
        "colab": {
          "base_uri": "https://localhost:8080/"
        },
        "id": "Nhbbr6SDcRjk",
        "outputId": "255b49ea-322e-40ef-e2ec-9fed7a801e51"
      },
      "execution_count": null,
      "outputs": [
        {
          "output_type": "stream",
          "name": "stdout",
          "text": [
            "Location\n",
            "Site 31/6, Baikonur Cosmodrome, Kazakhstan        235\n",
            "Site 132/1, Plesetsk Cosmodrome, Russia           216\n",
            "Site 43/4, Plesetsk Cosmodrome, Russia            202\n",
            "Site 41/1, Plesetsk Cosmodrome, Russia            198\n",
            "Site 1/5, Baikonur Cosmodrome, Kazakhstan         193\n",
            "                                                 ... \n",
            "Santa Rita 2, San Marco Launch Platform, Kenya      1\n",
            "LC-576A1, Vandenberg AFB, California, USA           1\n",
            "Site 250, Baikonur Cosmodrome, Kazakhstan           1\n",
            "LC-18B, Cape Canaveral AFS, Florida, USA            1\n",
            "LC-11, Cape Canaveral AFS, Florida, USA             1\n",
            "Name: count, Length: 137, dtype: int64\n"
          ]
        }
      ]
    },
    {
      "cell_type": "code",
      "source": [
        "# Extract the part after the last comma\n",
        "df['Country'] = df['Location'].apply(lambda x: x.split(',')[-1].strip())\n",
        "\n",
        "print(df['Country'].head())\n"
      ],
      "metadata": {
        "colab": {
          "base_uri": "https://localhost:8080/"
        },
        "id": "pbwhzwz8hIL3",
        "outputId": "1ce628c1-0fcd-4b3c-9574-6f5a058d3df9"
      },
      "execution_count": null,
      "outputs": [
        {
          "output_type": "stream",
          "name": "stdout",
          "text": [
            "0           USA\n",
            "1         China\n",
            "2           USA\n",
            "3    Kazakhstan\n",
            "4           USA\n",
            "Name: Country, dtype: object\n"
          ]
        }
      ]
    },
    {
      "cell_type": "code",
      "source": [
        "print(df['Company Name'].value_counts())"
      ],
      "metadata": {
        "colab": {
          "base_uri": "https://localhost:8080/"
        },
        "id": "3k-1a4FmZ4x9",
        "outputId": "e86a3332-72e5-4dd7-94b5-22cc7b91c2ca"
      },
      "execution_count": null,
      "outputs": [
        {
          "output_type": "stream",
          "name": "stdout",
          "text": [
            "Company Name\n",
            "RVSN USSR           1777\n",
            "Arianespace          279\n",
            "General Dynamics     251\n",
            "CASC                 251\n",
            "NASA                 203\n",
            "VKS RF               201\n",
            "US Air Force         161\n",
            "ULA                  140\n",
            "Boeing               136\n",
            "Martin Marietta      114\n",
            "SpaceX               100\n",
            "MHI                   84\n",
            "Northrop              83\n",
            "Lockheed              79\n",
            "ISRO                  76\n",
            "Roscosmos             55\n",
            "ILS                   46\n",
            "Sea Launch            36\n",
            "ISAS                  30\n",
            "Kosmotras             22\n",
            "US Navy               17\n",
            "Rocket Lab            13\n",
            "ISA                   13\n",
            "Eurockot              13\n",
            "ESA                   13\n",
            "Blue Origin           12\n",
            "IAI                   11\n",
            "ExPace                10\n",
            "ASI                    9\n",
            "CNES                   8\n",
            "AMBA                   8\n",
            "JAXA                   7\n",
            "Land Launch            7\n",
            "MITT                   7\n",
            "UT                     5\n",
            "CASIC                  5\n",
            "KCST                   5\n",
            "Exos                   4\n",
            "CECLES                 4\n",
            "Arm??e de l'Air        4\n",
            "SRC                    3\n",
            "KARI                   3\n",
            "AEB                    3\n",
            "RAE                    2\n",
            "Yuzhmash               2\n",
            "OKB-586                2\n",
            "Virgin Orbit           1\n",
            "IRGC                   1\n",
            "OneSpace               1\n",
            "Landspace              1\n",
            "i-Space                1\n",
            "Sandia                 1\n",
            "Starsem                1\n",
            "Khrunichev             1\n",
            "Douglas                1\n",
            "EER                    1\n",
            "Name: count, dtype: int64\n"
          ]
        }
      ]
    },
    {
      "cell_type": "code",
      "source": [
        "print(df['Datum'].iloc[2])"
      ],
      "metadata": {
        "colab": {
          "base_uri": "https://localhost:8080/"
        },
        "id": "FmfCfRlKXIWo",
        "outputId": "43fe02c0-2bd9-41a4-c434-0d81b0faed83"
      },
      "execution_count": null,
      "outputs": [
        {
          "output_type": "stream",
          "name": "stdout",
          "text": [
            "None\n"
          ]
        }
      ]
    },
    {
      "cell_type": "code",
      "source": [
        "\n",
        "# Create an empty list to store country names\n",
        "countries = []\n",
        "\n",
        "# Loop through each value in the Location column\n",
        "for location in df['Location']:\n",
        "    # Split the string by comma\n",
        "    parts = location.split(',')\n",
        "\n",
        "    # Get the last item in the split list (the country)\n",
        "    country = parts[len(parts) - 1]\n",
        "\n",
        "    # Remove extra spaces from the country name\n",
        "    country = country.strip()\n",
        "\n",
        "    # Add to the list\n",
        "    countries.append(country)\n",
        "\n",
        "# Create the new Country column\n",
        "df['Country'] = countries\n",
        "\n",
        "# Print the first 5 values\n",
        "print(df['Country'].head())\n",
        "print(df['Country'].value_counts())"
      ],
      "metadata": {
        "colab": {
          "base_uri": "https://localhost:8080/"
        },
        "id": "wOau4HA2POyk",
        "outputId": "122b0faa-256c-4707-e53c-cc4f6c9a929a"
      },
      "execution_count": null,
      "outputs": [
        {
          "output_type": "stream",
          "name": "stdout",
          "text": [
            "0           USA\n",
            "1         China\n",
            "2           USA\n",
            "3    Kazakhstan\n",
            "4           USA\n",
            "Name: Country, dtype: object\n",
            "Country\n",
            "Russia                            1395\n",
            "USA                               1344\n",
            "Kazakhstan                         701\n",
            "France                             303\n",
            "China                              268\n",
            "Japan                              126\n",
            "India                               76\n",
            "Pacific Ocean                       36\n",
            "Iran                                13\n",
            "New Zealand                         13\n",
            "Israel                              11\n",
            "Kenya                                9\n",
            "Australia                            6\n",
            "North Korea                          5\n",
            "New Mexico                           4\n",
            "Barents Sea                          3\n",
            "Brazil                               3\n",
            "South Korea                          3\n",
            "Gran Canaria                         2\n",
            "Shahrud Missile Test Site            1\n",
            "Yellow Sea                           1\n",
            "Pacific Missile Range Facility       1\n",
            "Name: count, dtype: int64\n"
          ]
        }
      ]
    },
    {
      "cell_type": "code",
      "source": [
        "# Extract hour as text from the datetime string\n",
        "#def extract_hour(datum):\n",
        "    #return datum.split()[4].split(':')[0]  # Gets '05' from '05:12'\n",
        "\n",
        "#df['Hour'] = df['Datum'].apply(extract_hour)\n",
        "\n",
        "print(df['Company Name'].head())\n",
        "print(df['Datum'].head())"
      ],
      "metadata": {
        "colab": {
          "base_uri": "https://localhost:8080/"
        },
        "id": "2bidYqxgXKr5",
        "outputId": "4f44869d-f8ca-49c1-bcf3-eb779f616b33"
      },
      "execution_count": null,
      "outputs": [
        {
          "output_type": "stream",
          "name": "stdout",
          "text": [
            "0       SpaceX\n",
            "1         CASC\n",
            "2       SpaceX\n",
            "3    Roscosmos\n",
            "4          ULA\n",
            "Name: Company Name, dtype: object\n",
            "0    Fri Aug 07, 2020 05:12 UTC\n",
            "1    Thu Aug 06, 2020 04:01 UTC\n",
            "2    Tue Aug 04, 2020 23:57 UTC\n",
            "3    Thu Jul 30, 2020 21:25 UTC\n",
            "4    Thu Jul 30, 2020 11:50 UTC\n",
            "Name: Datum, dtype: object\n"
          ]
        }
      ]
    },
    {
      "cell_type": "code",
      "source": [
        "# Filter only successful missions\n",
        "success_only = df[df['Status Mission'] == 'Success']\n",
        "\n",
        "# Count how many times each country appears\n",
        "top_country = success_only['Country'].value_counts().head(5)\n",
        "\n",
        "print(top_country)\n"
      ],
      "metadata": {
        "colab": {
          "base_uri": "https://localhost:8080/"
        },
        "id": "7ixVBQplZlHT",
        "outputId": "8589b381-d3d0-404e-d011-bd2d419a567b"
      },
      "execution_count": null,
      "outputs": [
        {
          "output_type": "stream",
          "name": "stdout",
          "text": [
            "Country\n",
            "Russia        1303\n",
            "USA           1186\n",
            "Kazakhstan     608\n",
            "France         285\n",
            "China          243\n",
            "Name: count, dtype: int64\n"
          ]
        }
      ]
    },
    {
      "cell_type": "code",
      "source": [
        "\n",
        "\n",
        "# Step 1: Extract Country\n",
        "countries = []\n",
        "for location in df['Location']:\n",
        "    parts = location.split(',')\n",
        "    country = parts[len(parts) - 1].strip()\n",
        "    countries.append(country)\n",
        "\n",
        "df['Country'] = countries\n",
        "\n",
        "# Step 2: Extract Hour as Integer\n",
        "# hours = []\n",
        "# for item in df['Datum']:\n",
        "#     time_part = item.split()[4]       # e.g., '09:05'\n",
        "#     hour = int(time_part.split(':')[0])  # e.g., 9\n",
        "#     hours.append(hour)\n",
        "\n",
        "# df['Hour'] = hours\n",
        "\n",
        "hours = []\n",
        "for item in df['Datum']:\n",
        "    parts = item.split()\n",
        "    if len(parts) >= 5:\n",
        "        time_part = parts[4]            # '05:12'\n",
        "        hour = int(time_part.split(':')[0])  # 5\n",
        "        hours.append(hour)\n",
        "    else:\n",
        "        hours.append(None)  # Fallback for bad/missing data\n",
        "\n",
        "df['Hour'] = hours\n",
        "\n",
        "\n",
        "# Step 3: Classify as AM or PM\n",
        "period = []\n",
        "for h in df['Hour']:\n",
        "    if h < 12:\n",
        "        period.append('AM')\n",
        "    else:\n",
        "        period.append('PM')\n",
        "\n",
        "df['Period'] = period\n",
        "\n",
        "# Step 4: Filter for successful missions only\n",
        "success_df = df[df['Status Mission'] == 'Success']\n",
        "\n",
        "# Step 5: Pivot Table to count AM/PM success launches by country\n",
        "pivot = success_df.pivot_table(\n",
        "    index='Country',\n",
        "    columns='Period',\n",
        "    values='Location',  # Any non-null column just to count\n",
        "    aggfunc='count',\n",
        "    fill_value=0\n",
        ")\n",
        "\n",
        "print(pivot)"
      ],
      "metadata": {
        "colab": {
          "base_uri": "https://localhost:8080/"
        },
        "id": "qSouJ8za2url",
        "outputId": "27795d49-81cd-4b56-a944-c3b51605f3f7"
      },
      "execution_count": null,
      "outputs": [
        {
          "output_type": "stream",
          "name": "stdout",
          "text": [
            "Period                      AM   PM\n",
            "Country                            \n",
            "Australia                    2    1\n",
            "Barents Sea                  1    1\n",
            "China                      130  113\n",
            "France                     102  183\n",
            "Gran Canaria                 1    1\n",
            "India                       54    9\n",
            "Iran                         0    4\n",
            "Israel                       1    8\n",
            "Japan                       88   25\n",
            "Kazakhstan                 431  177\n",
            "Kenya                        6    3\n",
            "New Zealand                  9    2\n",
            "North Korea                  2    0\n",
            "Pacific Ocean               15   18\n",
            "Russia                     634  669\n",
            "Shahrud Missile Test Site    1    0\n",
            "South Korea                  1    0\n",
            "USA                        429  757\n",
            "Yellow Sea                   1    0\n"
          ]
        }
      ]
    },
    {
      "cell_type": "code",
      "source": [
        "# Show total AM and PM successful launches\n",
        "total_am = pivot['AM'].sum()\n",
        "total_pm = pivot['PM'].sum()\n",
        "\n",
        "print(\"\\nTotal AM launches:\", total_am)\n",
        "print(\"Total PM launches:\", total_pm)\n"
      ],
      "metadata": {
        "colab": {
          "base_uri": "https://localhost:8080/"
        },
        "id": "1BOg2yaZloiW",
        "outputId": "4d9f1519-f781-40cd-a704-82ae71713fbf"
      },
      "execution_count": null,
      "outputs": [
        {
          "output_type": "stream",
          "name": "stdout",
          "text": [
            "\n",
            "Total AM launches: 1908\n",
            "Total PM launches: 1971\n"
          ]
        }
      ]
    },
    {
      "cell_type": "code",
      "source": [
        "import matplotlib.pyplot as plt\n",
        "# Step 6: Plot horizontal bar chart\n",
        "pivot.plot(kind='barh', grid=True, figsize=(10, 8), title=\"AM/PM Successful Launches by Country\")\n",
        "\n",
        "plt.xlabel('Number of Launches')\n",
        "plt.ylabel('Country')\n",
        "plt.tight_layout()\n",
        "plt.show()"
      ],
      "metadata": {
        "colab": {
          "base_uri": "https://localhost:8080/",
          "height": 807
        },
        "id": "j6-5Tt3Ev5XZ",
        "outputId": "b2c7a2e8-4597-42e3-e13d-90d2f7289322"
      },
      "execution_count": null,
      "outputs": [
        {
          "output_type": "display_data",
          "data": {
            "text/plain": [
              "<Figure size 1000x800 with 1 Axes>"
            ],
            "image/png": "[encoded data removed]"
          },
          "metadata": {}
        }
      ]
    },
    {
      "cell_type": "code",
      "source": [
        "import matplotlib.pyplot as plt\n",
        "\n",
        "# Step 1: Get total AM and PM successful launches\n",
        "total_am = pivot['AM'].sum()\n",
        "total_pm = pivot['PM'].sum()\n",
        "\n",
        "# Step 2: Create a Series for plotting\n",
        "launch_totals = pd.Series({'AM': total_am, 'PM': total_pm})\n",
        "\n",
        "# Step 3: Plot as pie chart\n",
        "launch_totals.plot(\n",
        "    kind='pie',\n",
        "    autopct='%1.1f%%',\n",
        "    startangle=90,\n",
        "    title='Total AM vs PM Successful Launches',\n",
        "    ylabel=''\n",
        ")\n",
        "\n",
        "plt.axis('equal')  # Equal aspect ratio ensures pie is a circle\n",
        "plt.tight_layout()\n",
        "plt.show()\n"
      ],
      "metadata": {
        "colab": {
          "base_uri": "https://localhost:8080/",
          "height": 487
        },
        "id": "HTb_-g-5v73i",
        "outputId": "3542867a-7529-49e7-dfdd-7a464043a808"
      },
      "execution_count": null,
      "outputs": [
        {
          "output_type": "display_data",
          "data": {
            "text/plain": [
              "<Figure size 640x480 with 1 Axes>"
            ],
            "image/png": "[encoded data removed]"
          },
          "metadata": {}
        }
      ]
    },
    {
      "cell_type": "code",
      "metadata": {
        "colab": {
          "base_uri": "https://localhost:8080/",
          "height": 356
        },
        "id": "af9a2756-919e-453e-85d9-d6f9702f371d",
        "outputId": "4c100043-c206-4645-8e83-c8b77a09ef8c"
      },
      "source": [
        "import pandas as pd\n",
        "from sklearn.feature_selection import mutual_info_classif\n",
        "import numpy as np\n",
        "\n",
        "# Load the dataset\n",
        "df = pd.read_csv('health_readmissions.csv', sep=';')\n",
        "\n",
        "# Separate features (X) and target (y)\n",
        "# Assuming 'readmitted_within_30days' is the target variable\n",
        "# and all other columns are features.\n",
        "# Adjust the column name if it's different in the actual CSV.\n",
        "if 'readmitted_within_30days' in df.columns:\n",
        "    X = df.drop('readmitted_within_30days', axis=1)\n",
        "    y = df['readmitted_within_30days']\n",
        "else:\n",
        "    raise ValueError(\"Target column 'readmitted_within_30days' not found in the dataset.\")\n",
        "\n",
        "# Identify categorical and numerical features\n",
        "categorical_features = X.select_dtypes(include=['object', 'category']).columns\n",
        "numerical_features = X.select_dtypes(include=np.number).columns\n",
        "\n",
        "# Convert categorical features to numerical using one-hot encoding\n",
        "X = pd.get_dummies(X, columns=categorical_features, drop_first=True)\n",
        "\n",
        "# Apply Mutual Information\n",
        "# Mutual Information works best with discrete target variables, which we have (binary)\n",
        "# It can work with continuous features, but can also work with discrete features.\n",
        "# For continuous features, it estimates the mutual information.\n",
        "# We've already handled categorical features by one-hot encoding.\n",
        "mi_scores = mutual_info_classif(X, y, random_state=42)\n",
        "\n",
        "# Create a pandas Series for better visualization of scores\n",
        "mi_series = pd.Series(mi_scores, name=\"Mutual Information Scores\", index=X.columns)\n",
        "\n",
        "# Sort the features by Mutual Information score in descending order\n",
        "mi_series = mi_series.sort_values(ascending=False)\n",
        "\n",
        "# Report the top 5 most relevant features\n",
        "top_5_features = mi_series.head(5)\n",
        "\n",
        "print(\"Top 5 most relevant features based on Mutual Information:\")\n",
        "print(top_5_features)"
      ],
      "execution_count": null,
      "outputs": [
        {
          "output_type": "error",
          "ename": "ValueError",
          "evalue": "Input X contains NaN.",
          "traceback": [
            "\u001b[0;31m---------------------------------------------------------------------------\u001b[0m",
            "\u001b[0;31mValueError\u001b[0m                                Traceback (most recent call last)",
            "\u001b[0;32m/tmp/ipython-input-3751926686.py\u001b[0m in \u001b[0;36m<cell line: 0>\u001b[0;34m()\u001b[0m\n\u001b[1;32m     28\u001b[0m \u001b[0;31m# For continuous features, it estimates the mutual information.\u001b[0m\u001b[0;34m\u001b[0m\u001b[0;34m\u001b[0m\u001b[0m\n\u001b[1;32m     29\u001b[0m \u001b[0;31m# We've already handled categorical features by one-hot encoding.\u001b[0m\u001b[0;34m\u001b[0m\u001b[0;34m\u001b[0m\u001b[0m\n\u001b[0;32m---> 30\u001b[0;31m \u001b[0mmi_scores\u001b[0m \u001b[0;34m=\u001b[0m \u001b[0mmutual_info_classif\u001b[0m\u001b[0;34m(\u001b[0m\u001b[0mX\u001b[0m\u001b[0;34m,\u001b[0m \u001b[0my\u001b[0m\u001b[0;34m,\u001b[0m \u001b[0mrandom_state\u001b[0m\u001b[0;34m=\u001b[0m\u001b[0;36m42\u001b[0m\u001b[0;34m)\u001b[0m\u001b[0;34m\u001b[0m\u001b[0;34m\u001b[0m\u001b[0m\n\u001b[0m\u001b[1;32m     31\u001b[0m \u001b[0;34m\u001b[0m\u001b[0m\n\u001b[1;32m     32\u001b[0m \u001b[0;31m# Create a pandas Series for better visualization of scores\u001b[0m\u001b[0;34m\u001b[0m\u001b[0;34m\u001b[0m\u001b[0m\n",
            "\u001b[0;32m/usr/local/lib/python3.12/dist-packages/sklearn/utils/_param_validation.py\u001b[0m in \u001b[0;36mwrapper\u001b[0;34m(*args, **kwargs)\u001b[0m\n\u001b[1;32m    214\u001b[0m                     )\n\u001b[1;32m    215\u001b[0m                 ):\n\u001b[0;32m--> 216\u001b[0;31m                     \u001b[0;32mreturn\u001b[0m \u001b[0mfunc\u001b[0m\u001b[0;34m(\u001b[0m\u001b[0;34m*\u001b[0m\u001b[0margs\u001b[0m\u001b[0;34m,\u001b[0m \u001b[0;34m**\u001b[0m\u001b[0mkwargs\u001b[0m\u001b[0;34m)\u001b[0m\u001b[0;34m\u001b[0m\u001b[0;34m\u001b[0m\u001b[0m\n\u001b[0m\u001b[1;32m    217\u001b[0m             \u001b[0;32mexcept\u001b[0m \u001b[0mInvalidParameterError\u001b[0m \u001b[0;32mas\u001b[0m \u001b[0me\u001b[0m\u001b[0;34m:\u001b[0m\u001b[0;34m\u001b[0m\u001b[0;34m\u001b[0m\u001b[0m\n\u001b[1;32m    218\u001b[0m                 \u001b[0;31m# When the function is just a wrapper around an estimator, we allow\u001b[0m\u001b[0;34m\u001b[0m\u001b[0;34m\u001b[0m\u001b[0m\n",
            "\u001b[0;32m/usr/local/lib/python3.12/dist-packages/sklearn/feature_selection/_mutual_info.py\u001b[0m in \u001b[0;36mmutual_info_classif\u001b[0;34m(X, y, discrete_features, n_neighbors, copy, random_state, n_jobs)\u001b[0m\n\u001b[1;32m    569\u001b[0m     \"\"\"\n\u001b[1;32m    570\u001b[0m     \u001b[0mcheck_classification_targets\u001b[0m\u001b[0;34m(\u001b[0m\u001b[0my\u001b[0m\u001b[0;34m)\u001b[0m\u001b[0;34m\u001b[0m\u001b[0;34m\u001b[0m\u001b[0m\n\u001b[0;32m--> 571\u001b[0;31m     return _estimate_mi(\n\u001b[0m\u001b[1;32m    572\u001b[0m         \u001b[0mX\u001b[0m\u001b[0;34m,\u001b[0m\u001b[0;34m\u001b[0m\u001b[0;34m\u001b[0m\u001b[0m\n\u001b[1;32m    573\u001b[0m         \u001b[0my\u001b[0m\u001b[0;34m,\u001b[0m\u001b[0;34m\u001b[0m\u001b[0;34m\u001b[0m\u001b[0m\n",
            "\u001b[0;32m/usr/local/lib/python3.12/dist-packages/sklearn/feature_selection/_mutual_info.py\u001b[0m in \u001b[0;36m_estimate_mi\u001b[0;34m(X, y, discrete_features, discrete_target, n_neighbors, copy, random_state, n_jobs)\u001b[0m\n\u001b[1;32m    269\u001b[0m            \u001b[0mData\u001b[0m \u001b[0mSets\u001b[0m\u001b[0;31m\"\u001b[0m\u001b[0;34m.\u001b[0m \u001b[0mPLoS\u001b[0m \u001b[0mONE\u001b[0m \u001b[0;36m9\u001b[0m\u001b[0;34m(\u001b[0m\u001b[0;36m2\u001b[0m\u001b[0;34m)\u001b[0m\u001b[0;34m,\u001b[0m \u001b[0;36m2014.\u001b[0m\u001b[0;34m\u001b[0m\u001b[0;34m\u001b[0m\u001b[0m\n\u001b[1;32m    270\u001b[0m     \"\"\"\n\u001b[0;32m--> 271\u001b[0;31m     \u001b[0mX\u001b[0m\u001b[0;34m,\u001b[0m \u001b[0my\u001b[0m \u001b[0;34m=\u001b[0m \u001b[0mcheck_X_y\u001b[0m\u001b[0;34m(\u001b[0m\u001b[0mX\u001b[0m\u001b[0;34m,\u001b[0m \u001b[0my\u001b[0m\u001b[0;34m,\u001b[0m \u001b[0maccept_sparse\u001b[0m\u001b[0;34m=\u001b[0m\u001b[0;34m\"csc\"\u001b[0m\u001b[0;34m,\u001b[0m \u001b[0my_numeric\u001b[0m\u001b[0;34m=\u001b[0m\u001b[0;32mnot\u001b[0m \u001b[0mdiscrete_target\u001b[0m\u001b[0;34m)\u001b[0m\u001b[0;34m\u001b[0m\u001b[0;34m\u001b[0m\u001b[0m\n\u001b[0m\u001b[1;32m    272\u001b[0m     \u001b[0mn_samples\u001b[0m\u001b[0;34m,\u001b[0m \u001b[0mn_features\u001b[0m \u001b[0;34m=\u001b[0m \u001b[0mX\u001b[0m\u001b[0;34m.\u001b[0m\u001b[0mshape\u001b[0m\u001b[0;34m\u001b[0m\u001b[0;34m\u001b[0m\u001b[0m\n\u001b[1;32m    273\u001b[0m \u001b[0;34m\u001b[0m\u001b[0m\n",
            "\u001b[0;32m/usr/local/lib/python3.12/dist-packages/sklearn/utils/validation.py\u001b[0m in \u001b[0;36mcheck_X_y\u001b[0;34m(X, y, accept_sparse, accept_large_sparse, dtype, order, copy, force_writeable, force_all_finite, ensure_all_finite, ensure_2d, allow_nd, multi_output, ensure_min_samples, ensure_min_features, y_numeric, estimator)\u001b[0m\n\u001b[1;32m   1368\u001b[0m     \u001b[0mensure_all_finite\u001b[0m \u001b[0;34m=\u001b[0m \u001b[0m_deprecate_force_all_finite\u001b[0m\u001b[0;34m(\u001b[0m\u001b[0mforce_all_finite\u001b[0m\u001b[0;34m,\u001b[0m \u001b[0mensure_all_finite\u001b[0m\u001b[0;34m)\u001b[0m\u001b[0;34m\u001b[0m\u001b[0;34m\u001b[0m\u001b[0m\n\u001b[1;32m   1369\u001b[0m \u001b[0;34m\u001b[0m\u001b[0m\n\u001b[0;32m-> 1370\u001b[0;31m     X = check_array(\n\u001b[0m\u001b[1;32m   1371\u001b[0m         \u001b[0mX\u001b[0m\u001b[0;34m,\u001b[0m\u001b[0;34m\u001b[0m\u001b[0;34m\u001b[0m\u001b[0m\n\u001b[1;32m   1372\u001b[0m         \u001b[0maccept_sparse\u001b[0m\u001b[0;34m=\u001b[0m\u001b[0maccept_sparse\u001b[0m\u001b[0;34m,\u001b[0m\u001b[0;34m\u001b[0m\u001b[0;34m\u001b[0m\u001b[0m\n",
            "\u001b[0;32m/usr/local/lib/python3.12/dist-packages/sklearn/utils/validation.py\u001b[0m in \u001b[0;36mcheck_array\u001b[0;34m(array, accept_sparse, accept_large_sparse, dtype, order, copy, force_writeable, force_all_finite, ensure_all_finite, ensure_non_negative, ensure_2d, allow_nd, ensure_min_samples, ensure_min_features, estimator, input_name)\u001b[0m\n\u001b[1;32m   1105\u001b[0m \u001b[0;34m\u001b[0m\u001b[0m\n\u001b[1;32m   1106\u001b[0m         \u001b[0;32mif\u001b[0m \u001b[0mensure_all_finite\u001b[0m\u001b[0;34m:\u001b[0m\u001b[0;34m\u001b[0m\u001b[0;34m\u001b[0m\u001b[0m\n\u001b[0;32m-> 1107\u001b[0;31m             _assert_all_finite(\n\u001b[0m\u001b[1;32m   1108\u001b[0m                 \u001b[0marray\u001b[0m\u001b[0;34m,\u001b[0m\u001b[0;34m\u001b[0m\u001b[0;34m\u001b[0m\u001b[0m\n\u001b[1;32m   1109\u001b[0m                 \u001b[0minput_name\u001b[0m\u001b[0;34m=\u001b[0m\u001b[0minput_name\u001b[0m\u001b[0;34m,\u001b[0m\u001b[0;34m\u001b[0m\u001b[0;34m\u001b[0m\u001b[0m\n",
            "\u001b[0;32m/usr/local/lib/python3.12/dist-packages/sklearn/utils/validation.py\u001b[0m in \u001b[0;36m_assert_all_finite\u001b[0;34m(X, allow_nan, msg_dtype, estimator_name, input_name)\u001b[0m\n\u001b[1;32m    118\u001b[0m         \u001b[0;32mreturn\u001b[0m\u001b[0;34m\u001b[0m\u001b[0;34m\u001b[0m\u001b[0m\n\u001b[1;32m    119\u001b[0m \u001b[0;34m\u001b[0m\u001b[0m\n\u001b[0;32m--> 120\u001b[0;31m     _assert_all_finite_element_wise(\n\u001b[0m\u001b[1;32m    121\u001b[0m         \u001b[0mX\u001b[0m\u001b[0;34m,\u001b[0m\u001b[0;34m\u001b[0m\u001b[0;34m\u001b[0m\u001b[0m\n\u001b[1;32m    122\u001b[0m         \u001b[0mxp\u001b[0m\u001b[0;34m=\u001b[0m\u001b[0mxp\u001b[0m\u001b[0;34m,\u001b[0m\u001b[0;34m\u001b[0m\u001b[0;34m\u001b[0m\u001b[0m\n",
            "\u001b[0;32m/usr/local/lib/python3.12/dist-packages/sklearn/utils/validation.py\u001b[0m in \u001b[0;36m_assert_all_finite_element_wise\u001b[0;34m(X, xp, allow_nan, msg_dtype, estimator_name, input_name)\u001b[0m\n\u001b[1;32m    167\u001b[0m                 \u001b[0;34m\"#estimators-that-handle-nan-values\"\u001b[0m\u001b[0;34m\u001b[0m\u001b[0;34m\u001b[0m\u001b[0m\n\u001b[1;32m    168\u001b[0m             )\n\u001b[0;32m--> 169\u001b[0;31m         \u001b[0;32mraise\u001b[0m \u001b[0mValueError\u001b[0m\u001b[0;34m(\u001b[0m\u001b[0mmsg_err\u001b[0m\u001b[0;34m)\u001b[0m\u001b[0;34m\u001b[0m\u001b[0;34m\u001b[0m\u001b[0m\n\u001b[0m\u001b[1;32m    170\u001b[0m \u001b[0;34m\u001b[0m\u001b[0m\n\u001b[1;32m    171\u001b[0m \u001b[0;34m\u001b[0m\u001b[0m\n",
            "\u001b[0;31mValueError\u001b[0m: Input X contains NaN."
          ]
        }
      ]
    },
    {
      "cell_type": "code",
      "source": [],
      "metadata": {
        "id": "m68vz_5jCVRT"
      },
      "execution_count": null,
      "outputs": []
    },
    {
      "cell_type": "markdown",
      "metadata": {
        "id": "0084f1e2"
      },
      "source": [
        "# Health Readmission Prediction\n",
        "\n",
        "This project aims to predict whether a patient will be readmitted to the hospital within 30 days based on various health and demographic factors.\n",
        "\n",
        "## Data\n",
        "\n",
        "The dataset used in this project is `health_readmissions.csv`. It contains the following columns:\n",
        "\n",
        "- age\n",
        "- sex\n",
        "- residence_type\n",
        "- systolic_bp\n",
        "- diastolic_bp\n",
        "- cholesterol\n",
        "- hemoglobin\n",
        "- past_visits\n",
        "- length_of_stay\n",
        "- insurance_status\n",
        "- readmitted_within_30days (target variable)\n",
        "\n",
        "## Project Steps\n",
        "\n",
        "1. **Data Loading and Exploration:** Load the dataset and perform initial exploration to understand the data structure, identify missing values, and understand the distribution of features.\n",
        "2. **Data Preprocessing:** Handle missing values and encode categorical features to prepare the data for model training.\n",
        "3. **Feature Selection:** Use techniques like Mutual Information to identify the most relevant features for predicting readmission.\n",
        "4. **Model Training:** Train a classification model (e.g., K-Nearest Neighbors) on the preprocessed data.\n",
        "5. **Model Evaluation:** Evaluate the performance of the trained model using appropriate metrics (e.g., accuracy, confusion matrix).\n",
        "6. **Prediction:** Use the trained model to make predictions on new data.\n",
        "\n",
        "## Code Overview\n",
        "\n",
        "The notebook contains code for:\n",
        "\n",
        "- Loading the data (`health_readmissions.csv`).\n",
        "- Data cleaning and preprocessing, including handling missing values and encoding categorical features.\n",
        "- Applying Mutual Information for feature selection.\n",
        "- Training a K-Nearest Neighbors classifier.\n",
        "- Evaluating the model's performance."
      ]
    }
  ]
}